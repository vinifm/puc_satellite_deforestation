{
 "cells": [
  {
   "cell_type": "markdown",
   "metadata": {},
   "source": [
    "# Preparação dos dados"
   ]
  },
  {
   "cell_type": "code",
   "execution_count": 3,
   "metadata": {},
   "outputs": [],
   "source": [
    "import shutil\n",
    "import os"
   ]
  },
  {
   "cell_type": "markdown",
   "metadata": {},
   "source": [
    "Separando imagens do csv \"train_v2\" em:\n",
    "1. Cloudy;\n",
    "2. Partly cloudy;\n",
    "3. Haze;\n",
    "4. Clear."
   ]
  },
  {
   "cell_type": "code",
   "execution_count": 5,
   "metadata": {},
   "outputs": [],
   "source": [
    "cloudy = []\n",
    "partly_cloudy = []\n",
    "haze = []\n",
    "clear = []\n",
    "\n",
    "with open('../images/train_v2.csv', 'r') as file:\n",
    "    lines = file.readlines()\n",
    "\n",
    "    for line in lines:\n",
    "        if ('cloudy' in line) and ('partly_cloudy' not in line):\n",
    "            cloudy.append(line)\n",
    "        elif 'partly_cloudy' in line:\n",
    "            partly_cloudy.append(line)\n",
    "        elif 'haze' in line:\n",
    "            haze.append(line)\n",
    "        elif 'clear' in line:\n",
    "            clear.append(line)\n",
    "\n",
    "folder = '../images/separated_labels/'\n",
    "\n",
    "with open(folder + 'cloudy.csv', 'w') as file:\n",
    "    for line in cloudy:\n",
    "        file.write(line)\n",
    "\n",
    "with open(folder + 'partly_cloudy.csv', 'w') as file:\n",
    "    for line in partly_cloudy:\n",
    "        file.write(line)\n",
    "\n",
    "with open(folder + 'haze.csv', 'w') as file:\n",
    "    for line in haze:\n",
    "        file.write(line)\n",
    "\n",
    "with open(folder + 'clear.csv', 'w') as file:\n",
    "    for line in clear:\n",
    "        file.write(line)"
   ]
  },
  {
   "cell_type": "markdown",
   "metadata": {},
   "source": [
    "Copiando as imagens do tipo 'clear' para uma nova pasta"
   ]
  },
  {
   "cell_type": "code",
   "execution_count": 10,
   "metadata": {},
   "outputs": [],
   "source": [
    "path = '../images/raw_images/train-jpg/'\n",
    "destination_dir = '../images/clear_images/'\n",
    "os.makedirs(destination_dir, exist_ok=True)\n",
    "\n",
    "with open('../images/separated_labels/clear.csv') as file:\n",
    "    lines = file.readlines()\n",
    "    for line in lines:\n",
    "        source_file = path + line.split(',')[0] + '.jpg'\n",
    "        shutil.copy(source_file, destination_dir)"
   ]
  }
 ],
 "metadata": {
  "kernelspec": {
   "display_name": ".venv",
   "language": "python",
   "name": "python3"
  },
  "language_info": {
   "codemirror_mode": {
    "name": "ipython",
    "version": 3
   },
   "file_extension": ".py",
   "mimetype": "text/x-python",
   "name": "python",
   "nbconvert_exporter": "python",
   "pygments_lexer": "ipython3",
   "version": "3.12.3"
  }
 },
 "nbformat": 4,
 "nbformat_minor": 2
}
